{
 "cells": [
  {
   "cell_type": "code",
   "execution_count": 2,
   "metadata": {},
   "outputs": [],
   "source": [
    "from bs4 import BeautifulSoup"
   ]
  },
  {
   "cell_type": "code",
   "execution_count": 3,
   "metadata": {},
   "outputs": [],
   "source": [
    "import urllib"
   ]
  },
  {
   "cell_type": "code",
   "execution_count": 46,
   "metadata": {},
   "outputs": [
    {
     "name": "stdout",
     "output_type": "stream",
     "text": [
      "Loblaws : Bananas, Bunch - $1.75\n"
     ]
    }
   ],
   "source": [
    "Store = \"Loblaws\"\n",
    "banana_page='https://www.loblaws.ca/Food/Fruits-%26-Vegetables/Fruit/Bananas-%26-Plantains/Bananas%2C-Bunch/p/20175355001_KG'\n",
    "banana_page = urllib.request.urlopen(banana_page)\n",
    "\n",
    "soup = BeautifulSoup(banana_page, 'html.parser')\n",
    "\n",
    "banana_box = soup.find('h1', attrs={'class': 'product-name'})\n",
    "banana_box1 = banana_box.text.strip() \n",
    "\n",
    "\n",
    "banana_price = soup.find('span', attrs={'class': 'reg-price-text'})\n",
    "banana_price1 = banana_price.text.strip() \n",
    "\n",
    "print(Store+ \" :\", banana_box1+\" -\", banana_price1)"
   ]
  },
  {
   "cell_type": "code",
   "execution_count": 61,
   "metadata": {},
   "outputs": [
    {
     "name": "stdout",
     "output_type": "stream",
     "text": [
      "[('Bananas, Bunch', '$1.75'), ('Italian Bread, Crusty Sliced (450 g)', '$1.29')]\n"
     ]
    }
   ],
   "source": [
    "items_page=['https://www.loblaws.ca/Food/Fruits-%26-Vegetables/Fruit/Bananas-%26-Plantains/Bananas%2C-Bunch/p/20175355001_KG','https://www.loblaws.ca/Food/Bakery/Freshly-Baked-Breads/Crusty-%26-European/Italian-Bread%2C-Crusty-Sliced/p/20345208_EA']\n",
    "data=[]\n",
    "\n",
    "for pg in items_page:\n",
    "    page = urllib.request.urlopen(pg)\n",
    "    soup = BeautifulSoup(page, 'html.parser')\n",
    "    name_box = soup.find('h1', attrs={'class': 'product-name'})\n",
    "    name = name_box.text.strip() \n",
    "    price_box = soup.find('span', attrs={'class': 'reg-price-text'})\n",
    "    price = price_box.text.strip()\n",
    "    if price == \"\":\n",
    "        price_box = soup.find('span', attrs={'class': 'sale-price-text'})\n",
    "        price = price_box.text.strip()\n",
    "    data.append((name,price))\n",
    "\n",
    "print(data)"
   ]
  },
  {
   "cell_type": "code",
   "execution_count": null,
   "metadata": {},
   "outputs": [],
   "source": []
  },
  {
   "cell_type": "code",
   "execution_count": 63,
   "metadata": {},
   "outputs": [
    {
     "name": "stdout",
     "output_type": "stream",
     "text": [
      "[('Bananas, Bunch', '$1.75'), ('Italian Bread, Crusty Sliced (450 g)', '$1.29')]\n"
     ]
    }
   ],
   "source": [
    "print(data\n",
    "     )"
   ]
  },
  {
   "cell_type": "code",
   "execution_count": 58,
   "metadata": {},
   "outputs": [
    {
     "data": {
      "text/plain": [
       "('Italian Bread, Crusty Sliced (450 g)', '')"
      ]
     },
     "execution_count": 58,
     "metadata": {},
     "output_type": "execute_result"
    }
   ],
   "source": [
    "data[1]"
   ]
  },
  {
   "cell_type": "code",
   "execution_count": 59,
   "metadata": {},
   "outputs": [
    {
     "data": {
      "text/plain": [
       "''"
      ]
     },
     "execution_count": 59,
     "metadata": {},
     "output_type": "execute_result"
    }
   ],
   "source": [
    "data[1][1]"
   ]
  },
  {
   "cell_type": "code",
   "execution_count": null,
   "metadata": {},
   "outputs": [],
   "source": []
  }
 ],
 "metadata": {
  "kernelspec": {
   "display_name": "Python 3",
   "language": "python",
   "name": "python3"
  },
  "language_info": {
   "codemirror_mode": {
    "name": "ipython",
    "version": 3
   },
   "file_extension": ".py",
   "mimetype": "text/x-python",
   "name": "python",
   "nbconvert_exporter": "python",
   "pygments_lexer": "ipython3",
   "version": "3.6.5"
  }
 },
 "nbformat": 4,
 "nbformat_minor": 2
}
